{
  "nbformat": 4,
  "nbformat_minor": 0,
  "metadata": {
    "colab": {
      "name": "SSTB_sentiment_analysis.ipynb",
      "provenance": [],
      "authorship_tag": "ABX9TyMKCv3VpGfvpARNJabDCv21",
      "include_colab_link": true
    },
    "kernelspec": {
      "name": "python3",
      "display_name": "Python 3"
    },
    "language_info": {
      "name": "python"
    }
  },
  "cells": [
    {
      "cell_type": "markdown",
      "metadata": {
        "id": "view-in-github",
        "colab_type": "text"
      },
      "source": [
        "<a href=\"https://colab.research.google.com/github/srirampattabiraman/Extensive-NLP-and-Deep-Learning/blob/main/session_7/SSTB_sentiment_analysis.ipynb\" target=\"_parent\"><img src=\"https://colab.research.google.com/assets/colab-badge.svg\" alt=\"Open In Colab\"/></a>"
      ]
    },
    {
      "cell_type": "code",
      "metadata": {
        "colab": {
          "base_uri": "https://localhost:8080/"
        },
        "id": "1ZE5FUk4X-xT",
        "outputId": "614a0bea-7d16-42d7-cfc7-6d96a76d7f28"
      },
      "source": [
        "#We are mounting drive\n",
        "from google.colab import drive\n",
        "drive.mount('/content/drive')"
      ],
      "execution_count": 2,
      "outputs": [
        {
          "output_type": "stream",
          "text": [
            "Mounted at /content/drive\n"
          ],
          "name": "stdout"
        }
      ]
    },
    {
      "cell_type": "code",
      "metadata": {
        "id": "GO6EEu-obAUR"
      },
      "source": [
        "##Importing Necessary libraries afer thanking GOD\n",
        "\n",
        "import numpy as np \n",
        "import pandas as pd\n",
        "import torch\n",
        "import torch.nn as nn\n",
        "import torch.optim as optim\n",
        "import torchtext\n",
        "from torchtext.legacy import data\n",
        "from torchtext.legacy.data import Field, LabelField, BucketIterator\n",
        "import random\n",
        "from tqdm import tqdm\n",
        "import sys\n",
        "import os\n",
        "from sklearn.model_selection import train_test_split"
      ],
      "execution_count": 9,
      "outputs": []
    },
    {
      "cell_type": "markdown",
      "metadata": {
        "id": "Swr017uOa_h7"
      },
      "source": [
        "**Dataset Preparation**"
      ]
    },
    {
      "cell_type": "code",
      "metadata": {
        "id": "V7ieAE-6b2rH"
      },
      "source": [
        "def group_labels(label):\n",
        "  if label in [\"very negative\", \"negative\"]:\n",
        "    return \"negative\"\n",
        "  elif label in [\"positive\", \"very positive\"]:\n",
        "    return \"positive\" \n",
        "  else:\n",
        "    return \"neutral\""
      ],
      "execution_count": 4,
      "outputs": []
    },
    {
      "cell_type": "code",
      "metadata": {
        "id": "OGUA6cGYa-TD"
      },
      "source": [
        "##Loading the Dataset\n",
        "dictionary = pd.read_csv(\"drive/MyDrive/END_DATA/session4/stanfordSentimentTreebank/dictionary.txt\", sep=\"|\")\n",
        "dictionary.columns = [\"phrase\", \"id\"]\n",
        "dictionary = dictionary.set_index(\"id\")\n",
        "\n",
        "sentiment_labels = pd.read_csv(\"drive/MyDrive/END_DATA/session4/stanfordSentimentTreebank/sentiment_labels.txt\", sep=\"|\")\n",
        "sentiment_labels.columns = [\"id\", \"sentiment\"]\n",
        "sentiment_labels = sentiment_labels.set_index(\"id\")\n",
        "\n",
        "phrase_sentiments = dictionary.join(sentiment_labels)\n",
        "\n",
        "phrase_sentiments[\"fine\"] = pd.cut(phrase_sentiments.sentiment, [0, 0.2, 0.4, 0.6, 0.8, 1.0],\n",
        "                                           include_lowest=True,\n",
        "                                           labels=[\"very negative\", \"negative\", \"neutral\", \"positive\", \"very positive\"])\n",
        "phrase_sentiments[\"coarse\"] = phrase_sentiments.fine.apply(group_labels)\n",
        "\n",
        "phrase_sentiments = phrase_sentiments.reset_index(level=0)\n",
        "\n",
        "sentences = pd.read_csv(\"drive/MyDrive/END_DATA/session4/stanfordSentimentTreebank/datasetSentences.txt\", index_col=\"sentence_index\",\n",
        "                                sep=\"\\t\")"
      ],
      "execution_count": 5,
      "outputs": []
    },
    {
      "cell_type": "code",
      "metadata": {
        "colab": {
          "base_uri": "https://localhost:8080/",
          "height": 232
        },
        "id": "Y1U8My4WcHoX",
        "outputId": "755d57e4-abc6-4d38-82c0-5d1db65b5083"
      },
      "source": [
        "sentences.head()"
      ],
      "execution_count": 9,
      "outputs": [
        {
          "output_type": "execute_result",
          "data": {
            "text/html": [
              "<div>\n",
              "<style scoped>\n",
              "    .dataframe tbody tr th:only-of-type {\n",
              "        vertical-align: middle;\n",
              "    }\n",
              "\n",
              "    .dataframe tbody tr th {\n",
              "        vertical-align: top;\n",
              "    }\n",
              "\n",
              "    .dataframe thead th {\n",
              "        text-align: right;\n",
              "    }\n",
              "</style>\n",
              "<table border=\"1\" class=\"dataframe\">\n",
              "  <thead>\n",
              "    <tr style=\"text-align: right;\">\n",
              "      <th></th>\n",
              "      <th>sentence</th>\n",
              "    </tr>\n",
              "    <tr>\n",
              "      <th>sentence_index</th>\n",
              "      <th></th>\n",
              "    </tr>\n",
              "  </thead>\n",
              "  <tbody>\n",
              "    <tr>\n",
              "      <th>1</th>\n",
              "      <td>The Rock is destined to be the 21st Century 's...</td>\n",
              "    </tr>\n",
              "    <tr>\n",
              "      <th>2</th>\n",
              "      <td>The gorgeously elaborate continuation of `` Th...</td>\n",
              "    </tr>\n",
              "    <tr>\n",
              "      <th>3</th>\n",
              "      <td>Effective but too-tepid biopic</td>\n",
              "    </tr>\n",
              "    <tr>\n",
              "      <th>4</th>\n",
              "      <td>If you sometimes like to go to the movies to h...</td>\n",
              "    </tr>\n",
              "    <tr>\n",
              "      <th>5</th>\n",
              "      <td>Emerges as something rare , an issue movie tha...</td>\n",
              "    </tr>\n",
              "  </tbody>\n",
              "</table>\n",
              "</div>"
            ],
            "text/plain": [
              "                                                         sentence\n",
              "sentence_index                                                   \n",
              "1               The Rock is destined to be the 21st Century 's...\n",
              "2               The gorgeously elaborate continuation of `` Th...\n",
              "3                                  Effective but too-tepid biopic\n",
              "4               If you sometimes like to go to the movies to h...\n",
              "5               Emerges as something rare , an issue movie tha..."
            ]
          },
          "metadata": {
            "tags": []
          },
          "execution_count": 9
        }
      ]
    },
    {
      "cell_type": "code",
      "metadata": {
        "colab": {
          "base_uri": "https://localhost:8080/",
          "height": 202
        },
        "id": "VgfmZ5sjcQGf",
        "outputId": "7c5ea8f4-440f-4220-a13a-fb2a1ff0ca78"
      },
      "source": [
        "phrase_sentiments.head()"
      ],
      "execution_count": 10,
      "outputs": [
        {
          "output_type": "execute_result",
          "data": {
            "text/html": [
              "<div>\n",
              "<style scoped>\n",
              "    .dataframe tbody tr th:only-of-type {\n",
              "        vertical-align: middle;\n",
              "    }\n",
              "\n",
              "    .dataframe tbody tr th {\n",
              "        vertical-align: top;\n",
              "    }\n",
              "\n",
              "    .dataframe thead th {\n",
              "        text-align: right;\n",
              "    }\n",
              "</style>\n",
              "<table border=\"1\" class=\"dataframe\">\n",
              "  <thead>\n",
              "    <tr style=\"text-align: right;\">\n",
              "      <th></th>\n",
              "      <th>id</th>\n",
              "      <th>phrase</th>\n",
              "      <th>sentiment</th>\n",
              "      <th>fine</th>\n",
              "      <th>coarse</th>\n",
              "    </tr>\n",
              "  </thead>\n",
              "  <tbody>\n",
              "    <tr>\n",
              "      <th>0</th>\n",
              "      <td>22935</td>\n",
              "      <td>! '</td>\n",
              "      <td>0.52778</td>\n",
              "      <td>neutral</td>\n",
              "      <td>neutral</td>\n",
              "    </tr>\n",
              "    <tr>\n",
              "      <th>1</th>\n",
              "      <td>18235</td>\n",
              "      <td>! ''</td>\n",
              "      <td>0.50000</td>\n",
              "      <td>neutral</td>\n",
              "      <td>neutral</td>\n",
              "    </tr>\n",
              "    <tr>\n",
              "      <th>2</th>\n",
              "      <td>179257</td>\n",
              "      <td>! Alas</td>\n",
              "      <td>0.44444</td>\n",
              "      <td>neutral</td>\n",
              "      <td>neutral</td>\n",
              "    </tr>\n",
              "    <tr>\n",
              "      <th>3</th>\n",
              "      <td>22936</td>\n",
              "      <td>! Brilliant</td>\n",
              "      <td>0.86111</td>\n",
              "      <td>very positive</td>\n",
              "      <td>positive</td>\n",
              "    </tr>\n",
              "    <tr>\n",
              "      <th>4</th>\n",
              "      <td>40532</td>\n",
              "      <td>! Brilliant !</td>\n",
              "      <td>0.93056</td>\n",
              "      <td>very positive</td>\n",
              "      <td>positive</td>\n",
              "    </tr>\n",
              "  </tbody>\n",
              "</table>\n",
              "</div>"
            ],
            "text/plain": [
              "       id         phrase  sentiment           fine    coarse\n",
              "0   22935            ! '    0.52778        neutral   neutral\n",
              "1   18235           ! ''    0.50000        neutral   neutral\n",
              "2  179257         ! Alas    0.44444        neutral   neutral\n",
              "3   22936    ! Brilliant    0.86111  very positive  positive\n",
              "4   40532  ! Brilliant !    0.93056  very positive  positive"
            ]
          },
          "metadata": {
            "tags": []
          },
          "execution_count": 10
        }
      ]
    },
    {
      "cell_type": "code",
      "metadata": {
        "colab": {
          "base_uri": "https://localhost:8080/",
          "height": 202
        },
        "id": "WnYwB00Bcwmn",
        "outputId": "7df30f2f-e9cd-4286-d404-d64e4d539df6"
      },
      "source": [
        "##Merging Sentences, dictionary, sentiment labels\n",
        "df_merged = pd.merge(sentences, phrase_sentiments, left_on='sentence', right_on='phrase')\n",
        "display(df_merged.head())"
      ],
      "execution_count": 6,
      "outputs": [
        {
          "output_type": "display_data",
          "data": {
            "text/html": [
              "<div>\n",
              "<style scoped>\n",
              "    .dataframe tbody tr th:only-of-type {\n",
              "        vertical-align: middle;\n",
              "    }\n",
              "\n",
              "    .dataframe tbody tr th {\n",
              "        vertical-align: top;\n",
              "    }\n",
              "\n",
              "    .dataframe thead th {\n",
              "        text-align: right;\n",
              "    }\n",
              "</style>\n",
              "<table border=\"1\" class=\"dataframe\">\n",
              "  <thead>\n",
              "    <tr style=\"text-align: right;\">\n",
              "      <th></th>\n",
              "      <th>sentence</th>\n",
              "      <th>id</th>\n",
              "      <th>phrase</th>\n",
              "      <th>sentiment</th>\n",
              "      <th>fine</th>\n",
              "      <th>coarse</th>\n",
              "    </tr>\n",
              "  </thead>\n",
              "  <tbody>\n",
              "    <tr>\n",
              "      <th>0</th>\n",
              "      <td>The Rock is destined to be the 21st Century 's...</td>\n",
              "      <td>226166</td>\n",
              "      <td>The Rock is destined to be the 21st Century 's...</td>\n",
              "      <td>0.69444</td>\n",
              "      <td>positive</td>\n",
              "      <td>positive</td>\n",
              "    </tr>\n",
              "    <tr>\n",
              "      <th>1</th>\n",
              "      <td>The gorgeously elaborate continuation of `` Th...</td>\n",
              "      <td>226300</td>\n",
              "      <td>The gorgeously elaborate continuation of `` Th...</td>\n",
              "      <td>0.83333</td>\n",
              "      <td>very positive</td>\n",
              "      <td>positive</td>\n",
              "    </tr>\n",
              "    <tr>\n",
              "      <th>2</th>\n",
              "      <td>Effective but too-tepid biopic</td>\n",
              "      <td>13995</td>\n",
              "      <td>Effective but too-tepid biopic</td>\n",
              "      <td>0.51389</td>\n",
              "      <td>neutral</td>\n",
              "      <td>neutral</td>\n",
              "    </tr>\n",
              "    <tr>\n",
              "      <th>3</th>\n",
              "      <td>If you sometimes like to go to the movies to h...</td>\n",
              "      <td>14123</td>\n",
              "      <td>If you sometimes like to go to the movies to h...</td>\n",
              "      <td>0.73611</td>\n",
              "      <td>positive</td>\n",
              "      <td>positive</td>\n",
              "    </tr>\n",
              "    <tr>\n",
              "      <th>4</th>\n",
              "      <td>Emerges as something rare , an issue movie tha...</td>\n",
              "      <td>13999</td>\n",
              "      <td>Emerges as something rare , an issue movie tha...</td>\n",
              "      <td>0.86111</td>\n",
              "      <td>very positive</td>\n",
              "      <td>positive</td>\n",
              "    </tr>\n",
              "  </tbody>\n",
              "</table>\n",
              "</div>"
            ],
            "text/plain": [
              "                                            sentence  ...    coarse\n",
              "0  The Rock is destined to be the 21st Century 's...  ...  positive\n",
              "1  The gorgeously elaborate continuation of `` Th...  ...  positive\n",
              "2                     Effective but too-tepid biopic  ...   neutral\n",
              "3  If you sometimes like to go to the movies to h...  ...  positive\n",
              "4  Emerges as something rare , an issue movie tha...  ...  positive\n",
              "\n",
              "[5 rows x 6 columns]"
            ]
          },
          "metadata": {
            "tags": []
          }
        }
      ]
    },
    {
      "cell_type": "code",
      "metadata": {
        "id": "ZzsT-vWuzX73"
      },
      "source": [
        "df_merged.to_csv(\"drive/MyDrive/END_DATA/session4/stanfordSentimentTreebank/sst_session_5.csv\", index=False)"
      ],
      "execution_count": 7,
      "outputs": []
    },
    {
      "cell_type": "markdown",
      "metadata": {
        "id": "73EexFKu0Qnw"
      },
      "source": [
        "DATASET SPLIT"
      ]
    },
    {
      "cell_type": "code",
      "metadata": {
        "id": "GzymK5Gw0M7H"
      },
      "source": [
        "df = pd.read_csv(\"drive/MyDrive/END_DATA/session4/stanfordSentimentTreebank/sst_session_5.csv\")\n",
        "df_train, df_test = train_test_split(df, test_size=0.3, random_state=42, stratify=df['coarse'])"
      ],
      "execution_count": 11,
      "outputs": []
    },
    {
      "cell_type": "code",
      "metadata": {
        "id": "50MR0etW1L2m"
      },
      "source": [
        "df_train.to_csv(\"drive/MyDrive/END_DATA/session4/stanfordSentimentTreebank/sst_session_5_train.csv\", index=False)\n",
        "df_test.to_csv(\"drive/MyDrive/END_DATA/session4/stanfordSentimentTreebank/sst_session_5_test.csv\", index=False)"
      ],
      "execution_count": 12,
      "outputs": []
    },
    {
      "cell_type": "code",
      "metadata": {
        "id": "1ss3p3lu3KQ_"
      },
      "source": [
        ""
      ],
      "execution_count": null,
      "outputs": []
    }
  ]
}