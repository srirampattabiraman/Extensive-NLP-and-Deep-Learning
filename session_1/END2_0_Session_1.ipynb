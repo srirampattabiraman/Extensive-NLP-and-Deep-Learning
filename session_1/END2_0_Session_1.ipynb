{
  "nbformat": 4,
  "nbformat_minor": 0,
  "metadata": {
    "colab": {
      "name": "END2.0 Session 1.ipynb",
      "provenance": [],
      "include_colab_link": true
    },
    "kernelspec": {
      "name": "python3",
      "display_name": "Python 3"
    },
    "language_info": {
      "name": "python"
    }
  },
  "cells": [
    {
      "cell_type": "markdown",
      "metadata": {
        "id": "view-in-github",
        "colab_type": "text"
      },
      "source": [
        "<a href=\"https://colab.research.google.com/github/srirampattabiraman/Extensive-NLP-and-Deep-Learning/blob/main/session_1/END2_0_Session_1.ipynb\" target=\"_parent\"><img src=\"https://colab.research.google.com/assets/colab-badge.svg\" alt=\"Open In Colab\"/></a>"
      ]
    },
    {
      "cell_type": "code",
      "metadata": {
        "colab": {
          "base_uri": "https://localhost:8080/"
        },
        "id": "GC_6PeobwwkH",
        "outputId": "3a876051-4ca6-4282-adc5-fafb00305202"
      },
      "source": [
        "import torch\n",
        "from torch.autograd import Variable\n",
        "import torch.nn as nn\n",
        "import torch.nn.functional as F\n",
        "import torch.optim as optim\n",
        "import numpy as np\n",
        "import matplotlib.pyplot as plt\n",
        "%matplotlib inline\n",
        "torch.manual_seed(2)"
      ],
      "execution_count": 1,
      "outputs": [
        {
          "output_type": "execute_result",
          "data": {
            "text/plain": [
              "<torch._C.Generator at 0x7eff23c8d8f0>"
            ]
          },
          "metadata": {
            "tags": []
          },
          "execution_count": 1
        }
      ]
    },
    {
      "cell_type": "code",
      "metadata": {
        "id": "bL64bMTkw2GP"
      },
      "source": [
        "X = torch.Tensor([[0,0], [0,1], [1,0], [1,1]])\n",
        "Y = torch.Tensor([0, 1, 1, 0]).view(-1,1)"
      ],
      "execution_count": 2,
      "outputs": []
    },
    {
      "cell_type": "code",
      "metadata": {
        "id": "aC82kEAIw3Wf"
      },
      "source": [
        "class XOR(nn.Module):\n",
        "    def __init__(self, input_dim = 2, output_dim=1):\n",
        "        super(XOR, self).__init__()\n",
        "        self.lin1 = nn.Linear(input_dim, 11)\n",
        "        self.lin2 = nn.Linear(11, output_dim, bias=False)\n",
        "    \n",
        "    def forward(self, x):\n",
        "        x = self.lin1(x)\n",
        "        x = F.tanh(x)\n",
        "        x = self.lin2(x)\n",
        "        #x = F.tanh(x)   ## Removing activation function at the last layer\n",
        "        return x"
      ],
      "execution_count": 31,
      "outputs": []
    },
    {
      "cell_type": "code",
      "metadata": {
        "colab": {
          "base_uri": "https://localhost:8080/"
        },
        "id": "8gQIQExYw65K",
        "outputId": "f171636d-e611-4372-d697-2eae83475878"
      },
      "source": [
        "## Setting Bias to False gave total parameters 44\n",
        "model = XOR()\n",
        "print(model)\n",
        "from torchsummary import summary\n",
        "summary(model, (2,2))"
      ],
      "execution_count": 32,
      "outputs": [
        {
          "output_type": "stream",
          "text": [
            "XOR(\n",
            "  (lin1): Linear(in_features=2, out_features=11, bias=True)\n",
            "  (lin2): Linear(in_features=11, out_features=1, bias=False)\n",
            ")\n",
            "----------------------------------------------------------------\n",
            "        Layer (type)               Output Shape         Param #\n",
            "================================================================\n",
            "            Linear-1                [-1, 2, 11]              33\n",
            "            Linear-2                 [-1, 2, 1]              11\n",
            "================================================================\n",
            "Total params: 44\n",
            "Trainable params: 44\n",
            "Non-trainable params: 0\n",
            "----------------------------------------------------------------\n",
            "Input size (MB): 0.00\n",
            "Forward/backward pass size (MB): 0.00\n",
            "Params size (MB): 0.00\n",
            "Estimated Total Size (MB): 0.00\n",
            "----------------------------------------------------------------\n"
          ],
          "name": "stdout"
        },
        {
          "output_type": "stream",
          "text": [
            "/usr/local/lib/python3.7/dist-packages/torch/nn/functional.py:1698: UserWarning: nn.functional.tanh is deprecated. Use torch.tanh instead.\n",
            "  warnings.warn(\"nn.functional.tanh is deprecated. Use torch.tanh instead.\")\n"
          ],
          "name": "stderr"
        }
      ]
    },
    {
      "cell_type": "code",
      "metadata": {
        "id": "yeotEq19x6XF"
      },
      "source": [
        "def weights_init(model):\n",
        "    for m in model.modules():\n",
        "        if isinstance(m, nn.Linear):\n",
        "            # initialize the weight tensor, here we use a normal distribution\n",
        "            m.weight.data.normal_(0, 1)\n",
        "\n",
        "weights_init(model)"
      ],
      "execution_count": 5,
      "outputs": []
    },
    {
      "cell_type": "code",
      "metadata": {
        "id": "WrD_sNzLx78e"
      },
      "source": [
        "loss_func = nn.L1Loss()"
      ],
      "execution_count": 6,
      "outputs": []
    },
    {
      "cell_type": "code",
      "metadata": {
        "id": "-zvbrMd2x_lA"
      },
      "source": [
        "optimizer = optim.SGD(model.parameters(), lr=0.02, momentum=0.9)\n"
      ],
      "execution_count": 7,
      "outputs": []
    },
    {
      "cell_type": "code",
      "metadata": {
        "colab": {
          "base_uri": "https://localhost:8080/"
        },
        "id": "q7tWa3D7yA5X",
        "outputId": "0d6d9832-bcc8-4b3e-c94f-3d7f93d28a38"
      },
      "source": [
        "epochs = 2001\n",
        "steps = X.size(0)\n",
        "for i in range(epochs):\n",
        "    for j in range(steps):\n",
        "        data_point = np.random.randint(X.size(0))\n",
        "        x_var = Variable(X[data_point], requires_grad=False)\n",
        "        y_var = Variable(Y[data_point], requires_grad=False)\n",
        "        \n",
        "        optimizer.zero_grad() ## Inorder to avoid gradient accumulation in pytorch\n",
        "        y_hat = model(x_var)\n",
        "        loss = loss_func.forward(y_hat, y_var)\n",
        "        loss.backward()\n",
        "        optimizer.step()\n",
        "        \n",
        "    if i % 50 == 0:\n",
        "        print( \"Epoch: {0}, Loss: {1}, \".format(i, loss.data.numpy()))"
      ],
      "execution_count": 8,
      "outputs": [
        {
          "output_type": "stream",
          "text": [
            "/usr/local/lib/python3.7/dist-packages/torch/nn/functional.py:1698: UserWarning: nn.functional.tanh is deprecated. Use torch.tanh instead.\n",
            "  warnings.warn(\"nn.functional.tanh is deprecated. Use torch.tanh instead.\")\n"
          ],
          "name": "stderr"
        },
        {
          "output_type": "stream",
          "text": [
            "Epoch: 0, Loss: 1.9677236080169678, \n",
            "Epoch: 50, Loss: 1.0120747089385986, \n",
            "Epoch: 100, Loss: 0.18794822692871094, \n",
            "Epoch: 150, Loss: 0.13637948036193848, \n",
            "Epoch: 200, Loss: 0.12973982095718384, \n",
            "Epoch: 250, Loss: 0.25684675574302673, \n",
            "Epoch: 300, Loss: 0.6132403612136841, \n",
            "Epoch: 350, Loss: 1.1240605115890503, \n",
            "Epoch: 400, Loss: 0.2146153450012207, \n",
            "Epoch: 450, Loss: 0.17903293669223785, \n",
            "Epoch: 500, Loss: 0.06467932462692261, \n",
            "Epoch: 550, Loss: 0.2263428270816803, \n",
            "Epoch: 600, Loss: 0.13401389122009277, \n",
            "Epoch: 650, Loss: 0.11583757400512695, \n",
            "Epoch: 700, Loss: 0.13751059770584106, \n",
            "Epoch: 750, Loss: 0.25053930282592773, \n",
            "Epoch: 800, Loss: 1.0005772113800049, \n",
            "Epoch: 850, Loss: 0.12034964561462402, \n",
            "Epoch: 900, Loss: 0.04458826780319214, \n",
            "Epoch: 950, Loss: 0.6428275108337402, \n",
            "Epoch: 1000, Loss: 0.14019492268562317, \n",
            "Epoch: 1050, Loss: 0.29334741830825806, \n",
            "Epoch: 1100, Loss: 0.02288031578063965, \n",
            "Epoch: 1150, Loss: 0.5943712592124939, \n",
            "Epoch: 1200, Loss: 0.0032824277877807617, \n",
            "Epoch: 1250, Loss: 0.29119372367858887, \n",
            "Epoch: 1300, Loss: 0.24063628911972046, \n",
            "Epoch: 1350, Loss: 0.22344791889190674, \n",
            "Epoch: 1400, Loss: 0.47275418043136597, \n",
            "Epoch: 1450, Loss: 0.09436741471290588, \n",
            "Epoch: 1500, Loss: 0.08306539058685303, \n",
            "Epoch: 1550, Loss: 0.3745015263557434, \n",
            "Epoch: 1600, Loss: 0.07753947377204895, \n",
            "Epoch: 1650, Loss: 0.04915809631347656, \n",
            "Epoch: 1700, Loss: 0.47830072045326233, \n",
            "Epoch: 1750, Loss: 0.5925061702728271, \n",
            "Epoch: 1800, Loss: 0.341503381729126, \n",
            "Epoch: 1850, Loss: 0.7633974552154541, \n",
            "Epoch: 1900, Loss: 0.03291511535644531, \n",
            "Epoch: 1950, Loss: 0.1139170229434967, \n",
            "Epoch: 2000, Loss: 0.24893280863761902, \n"
          ],
          "name": "stdout"
        }
      ]
    },
    {
      "cell_type": "code",
      "metadata": {
        "id": "QV0dIdveyCRi"
      },
      "source": [
        ""
      ],
      "execution_count": 8,
      "outputs": []
    }
  ]
}